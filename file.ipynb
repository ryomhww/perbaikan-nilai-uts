{
 "cells": [
  {
   "cell_type": "code",
   "execution_count": 3,
   "id": "073de53f",
   "metadata": {},
   "outputs": [
    {
     "name": "stdout",
     "output_type": "stream",
     "text": [
      "masukan email : ryomhw@gmail.com\n",
      "True\n"
     ]
    }
   ],
   "source": [
    "email = input(\"masukan email : \")\n",
    "position_at = 0\n",
    "position_titik = 0\n",
    "position_at = email.find(\"@\")\n",
    "position_titik = email.find(\".\")\n",
    "print(position_at < position_titik)"
   ]
  },
  {
   "cell_type": "code",
   "execution_count": 4,
   "id": "e98ce5ac",
   "metadata": {},
   "outputs": [
    {
     "name": "stdout",
     "output_type": "stream",
     "text": [
      "masukan kalimathallo teman teman\n",
      "h4llo t3m4n t3m4n\n"
     ]
    }
   ],
   "source": [
    "kalimat = input(\"masukan kalimat\")\n",
    "i = 0\n",
    "kata = \"\"\n",
    "for i in range (len(kalimat)):\n",
    "    if kalimat[i] == \"a\" or kalimat[i] == \"A\":\n",
    "        kata = kata + \"4\"\n",
    "    elif kalimat[i] == \"e\" or kalimat[i] == \"E\":\n",
    "        kata = kata + \"3\"\n",
    "    elif kalimat[i] == \"L\":\n",
    "        kata = kata + \"7\"\n",
    "    elif kalimat[i] == \"5\":\n",
    "        kata = kata + \"5\"\n",
    "    else:\n",
    "        kata = kata + kalimat[i]\n",
    "print (kata)"
   ]
  },
  {
   "cell_type": "code",
   "execution_count": null,
   "id": "98947c3a",
   "metadata": {},
   "outputs": [],
   "source": []
  }
 ],
 "metadata": {
  "kernelspec": {
   "display_name": "Python 3 (ipykernel)",
   "language": "python",
   "name": "python3"
  },
  "language_info": {
   "codemirror_mode": {
    "name": "ipython",
    "version": 3
   },
   "file_extension": ".py",
   "mimetype": "text/x-python",
   "name": "python",
   "nbconvert_exporter": "python",
   "pygments_lexer": "ipython3",
   "version": "3.9.12"
  }
 },
 "nbformat": 4,
 "nbformat_minor": 5
}
